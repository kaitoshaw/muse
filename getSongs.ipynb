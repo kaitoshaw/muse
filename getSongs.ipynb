{
 "cells": [
  {
   "attachments": {},
   "cell_type": "markdown",
   "metadata": {},
   "source": [
    "# Get Songs from Spotify Playlist"
   ]
  },
  {
   "cell_type": "code",
   "execution_count": 56,
   "metadata": {},
   "outputs": [],
   "source": [
    "# Libraries\n",
    "import requests\n",
    "import re\n",
    "import json\n",
    "import config"
   ]
  },
  {
   "cell_type": "code",
   "execution_count": 57,
   "metadata": {},
   "outputs": [
    {
     "data": {
      "text/plain": [
       "'BQCROkXHBJsNcrXW7ApthtTM61bhPQoTYhiXJlecVGOMsddGTciZM71nKh6Xg81-amT55ramqeZi7W91VDGJ2N8oec0RDiim4Eqj4PMQ5VNn-gG9HLB_'"
      ]
     },
     "execution_count": 57,
     "metadata": {},
     "output_type": "execute_result"
    }
   ],
   "source": [
    "# Get token\n",
    "url = \"https://accounts.spotify.com/api/token\"\n",
    "\n",
    "payload=f'client_id={config.CLIENT_ID}&client_secret={config.CLIENT_SECRET}&grant_type=client_credentials'\n",
    "headers = {\n",
    "  'Content-Type': 'application/x-www-form-urlencoded',\n",
    "  'Cookie': '__Host-device_id=AQA1E_8u1HHZzuE7O9d_fV4YwanfNozg6q_mdfweHpowhpZGWG9saI45tX6W5no4APxdKSdgb0ZqexZNfHeYiXVZhLhlP5JYj0M; sp_tr=false'\n",
    "}\n",
    "\n",
    "response = requests.request(\"POST\", url, headers=headers, data=payload)\n",
    "\n",
    "AccessToken = json.loads(response.text)['access_token']\n",
    "AccessToken"
   ]
  },
  {
   "attachments": {},
   "cell_type": "markdown",
   "metadata": {},
   "source": [
    "## Access Token\n",
    "Access token is required to call Spotify API. In this case, the Access token needs to be refreshed every time the request is called. The Spotify credential used is the creator of the code."
   ]
  },
  {
   "cell_type": "code",
   "execution_count": 58,
   "metadata": {},
   "outputs": [],
   "source": [
    "# Sample Link\n",
    "link = 'https://open.spotify.com/playlist/3EZXILd3Au7L8Wna75GUz3?si=cc22f026f7e34fd7'"
   ]
  },
  {
   "cell_type": "code",
   "execution_count": 59,
   "metadata": {},
   "outputs": [
    {
     "data": {
      "text/plain": [
       "'3EZXILd3Au7L8Wna75GUz3'"
      ]
     },
     "execution_count": 59,
     "metadata": {},
     "output_type": "execute_result"
    }
   ],
   "source": [
    "# Get Link ID\n",
    "playlist_id = re.search(r'(?<=playlist/)\\w+', link).group()\n",
    "\n",
    "playlist_id"
   ]
  },
  {
   "cell_type": "code",
   "execution_count": 60,
   "metadata": {},
   "outputs": [
    {
     "name": "stdout",
     "output_type": "stream",
     "text": [
      "Playlist Name: My Playlist #32\n"
     ]
    }
   ],
   "source": [
    "url = f\"https://api.spotify.com/v1/playlists/{playlist_id}\"\n",
    "\n",
    "payload={}\n",
    "headers = {\n",
    "  'Authorization': f'Bearer {AccessToken}'\n",
    "}\n",
    "\n",
    "playlistDetail = requests.get(url, headers=headers, data=payload).json()\n",
    "\n",
    "print(f\"Playlist Name: {playlistDetail['name']}\")"
   ]
  },
  {
   "cell_type": "code",
   "execution_count": 61,
   "metadata": {},
   "outputs": [
    {
     "name": "stdout",
     "output_type": "stream",
     "text": [
      "{'href': 'https://api.spotify.com/v1/playlists/3EZXILd3Au7L8Wna75GUz3/tracks?offset=0&limit=100', 'items': [{'added_at': '2023-03-31T08:49:06Z', 'added_by': {'external_urls': {'spotify': 'https://open.spotify.com/user/jeconiahri'}, 'href': 'https://api.spotify.com/v1/users/jeconiahri', 'id': 'jeconiahri', 'type': 'user', 'uri': 'spotify:user:jeconiahri'}, 'is_local': False, 'primary_color': None, 'track': {'album': {'album_group': 'single', 'album_type': 'single', 'artists': [{'external_urls': {'spotify': 'https://open.spotify.com/artist/1XlLhtgJjC4ROQZilBZAvw'}, 'href': 'https://api.spotify.com/v1/artists/1XlLhtgJjC4ROQZilBZAvw', 'id': '1XlLhtgJjC4ROQZilBZAvw', 'name': 'Nic D', 'type': 'artist', 'uri': 'spotify:artist:1XlLhtgJjC4ROQZilBZAvw'}, {'external_urls': {'spotify': 'https://open.spotify.com/artist/5zixe6AbgXPqt4c1uSl94L'}, 'href': 'https://api.spotify.com/v1/artists/5zixe6AbgXPqt4c1uSl94L', 'id': '5zixe6AbgXPqt4c1uSl94L', 'name': 'Connor Price', 'type': 'artist', 'uri': 'spotify:artist:5zixe6AbgXPqt4c1uSl94L'}], 'available_markets': ['AD', 'AE', 'AG', 'AL', 'AM', 'AO', 'AR', 'AT', 'AU', 'AZ', 'BA', 'BB', 'BD', 'BE', 'BF', 'BG', 'BH', 'BI', 'BJ', 'BN', 'BO', 'BR', 'BS', 'BT', 'BW', 'BY', 'BZ', 'CA', 'CD', 'CG', 'CH', 'CI', 'CL', 'CM', 'CO', 'CR', 'CV', 'CW', 'CY', 'CZ', 'DE', 'DJ', 'DK', 'DM', 'DO', 'DZ', 'EC', 'EE', 'EG', 'ES', 'ET', 'FI', 'FJ', 'FM', 'FR', 'GA', 'GB', 'GD', 'GE', 'GH', 'GM', 'GN', 'GQ', 'GR', 'GT', 'GW', 'GY', 'HK', 'HN', 'HR', 'HT', 'HU', 'ID', 'IE', 'IL', 'IN', 'IQ', 'IS', 'IT', 'JM', 'JO', 'JP', 'KE', 'KG', 'KH', 'KI', 'KM', 'KN', 'KR', 'KW', 'KZ', 'LA', 'LB', 'LC', 'LI', 'LK', 'LR', 'LS', 'LT', 'LU', 'LV', 'LY', 'MA', 'MC', 'MD', 'ME', 'MG', 'MH', 'MK', 'ML', 'MN', 'MO', 'MR', 'MT', 'MU', 'MV', 'MW', 'MX', 'MY', 'MZ', 'NA', 'NE', 'NG', 'NI', 'NL', 'NO', 'NP', 'NR', 'NZ', 'OM', 'PA', 'PE', 'PG', 'PH', 'PK', 'PL', 'PS', 'PT', 'PW', 'PY', 'QA', 'RO', 'RS', 'RW', 'SA', 'SB', 'SC', 'SE', 'SG', 'SI', 'SK', 'SL', 'SM', 'SN', 'SR', 'ST', 'SV', 'SZ', 'TD', 'TG', 'TH', 'TJ', 'TL', 'TN', 'TO', 'TR', 'TT', 'TV', 'TW', 'TZ', 'UA', 'UG', 'US', 'UY', 'UZ', 'VC', 'VE', 'VN', 'VU', 'WS', 'XK', 'ZA', 'ZM', 'ZW'], 'external_urls': {'spotify': 'https://open.spotify.com/album/2R32rJK89J4ZVn5DqhireL'}, 'href': 'https://api.spotify.com/v1/albums/2R32rJK89J4ZVn5DqhireL', 'id': '2R32rJK89J4ZVn5DqhireL', 'images': [{'height': 640, 'url': 'https://i.scdn.co/image/ab67616d0000b2734c14d524e08681904cd2f6a2', 'width': 640}, {'height': 300, 'url': 'https://i.scdn.co/image/ab67616d00001e024c14d524e08681904cd2f6a2', 'width': 300}, {'height': 64, 'url': 'https://i.scdn.co/image/ab67616d000048514c14d524e08681904cd2f6a2', 'width': 64}], 'is_playable': True, 'name': 'Bankroll', 'release_date': '2022-11-04', 'release_date_precision': 'day', 'total_tracks': 1, 'type': 'album', 'uri': 'spotify:album:2R32rJK89J4ZVn5DqhireL'}, 'artists': [{'external_urls': {'spotify': 'https://open.spotify.com/artist/1XlLhtgJjC4ROQZilBZAvw'}, 'href': 'https://api.spotify.com/v1/artists/1XlLhtgJjC4ROQZilBZAvw', 'id': '1XlLhtgJjC4ROQZilBZAvw', 'name': 'Nic D', 'type': 'artist', 'uri': 'spotify:artist:1XlLhtgJjC4ROQZilBZAvw'}, {'external_urls': {'spotify': 'https://open.spotify.com/artist/5zixe6AbgXPqt4c1uSl94L'}, 'href': 'https://api.spotify.com/v1/artists/5zixe6AbgXPqt4c1uSl94L', 'id': '5zixe6AbgXPqt4c1uSl94L', 'name': 'Connor Price', 'type': 'artist', 'uri': 'spotify:artist:5zixe6AbgXPqt4c1uSl94L'}], 'available_markets': ['AR', 'AU', 'AT', 'BE', 'BO', 'BR', 'BG', 'CA', 'CL', 'CO', 'CR', 'CY', 'CZ', 'DK', 'DO', 'DE', 'EC', 'EE', 'SV', 'FI', 'FR', 'GR', 'GT', 'HN', 'HK', 'HU', 'IS', 'IE', 'IT', 'LV', 'LT', 'LU', 'MY', 'MT', 'MX', 'NL', 'NZ', 'NI', 'NO', 'PA', 'PY', 'PE', 'PH', 'PL', 'PT', 'SG', 'SK', 'ES', 'SE', 'CH', 'TW', 'TR', 'UY', 'US', 'GB', 'AD', 'LI', 'MC', 'ID', 'JP', 'TH', 'VN', 'RO', 'IL', 'ZA', 'SA', 'AE', 'BH', 'QA', 'OM', 'KW', 'EG', 'MA', 'DZ', 'TN', 'LB', 'JO', 'PS', 'IN', 'BY', 'KZ', 'MD', 'UA', 'AL', 'BA', 'HR', 'ME', 'MK', 'RS', 'SI', 'KR', 'BD', 'PK', 'LK', 'GH', 'KE', 'NG', 'TZ', 'UG', 'AG', 'AM', 'BS', 'BB', 'BZ', 'BT', 'BW', 'BF', 'CV', 'CW', 'DM', 'FJ', 'GM', 'GE', 'GD', 'GW', 'GY', 'HT', 'JM', 'KI', 'LS', 'LR', 'MW', 'MV', 'ML', 'MH', 'FM', 'NA', 'NR', 'NE', 'PW', 'PG', 'WS', 'SM', 'ST', 'SN', 'SC', 'SL', 'SB', 'KN', 'LC', 'VC', 'SR', 'TL', 'TO', 'TT', 'TV', 'VU', 'AZ', 'BN', 'BI', 'KH', 'CM', 'TD', 'KM', 'GQ', 'SZ', 'GA', 'GN', 'KG', 'LA', 'MO', 'MR', 'MN', 'NP', 'RW', 'TG', 'UZ', 'ZW', 'BJ', 'MG', 'MU', 'MZ', 'AO', 'CI', 'DJ', 'ZM', 'CD', 'CG', 'IQ', 'LY', 'TJ', 'VE', 'ET', 'XK'], 'disc_number': 1, 'duration_ms': 104515, 'episode': False, 'explicit': False, 'external_ids': {'isrc': 'QZTAU2262726'}, 'external_urls': {'spotify': 'https://open.spotify.com/track/0xcSj8Zchf6OwaSOAPAkbg'}, 'href': 'https://api.spotify.com/v1/tracks/0xcSj8Zchf6OwaSOAPAkbg', 'id': '0xcSj8Zchf6OwaSOAPAkbg', 'is_local': False, 'name': 'Bankroll', 'popularity': 69, 'preview_url': 'https://p.scdn.co/mp3-preview/9542d2f8124df681eb41531c0cbc0de5cfb8d00b?cid=d45edb46e16b49b2a68b07a796d43e76', 'track': True, 'track_number': 1, 'type': 'track', 'uri': 'spotify:track:0xcSj8Zchf6OwaSOAPAkbg'}, 'video_thumbnail': {'url': None}}, {'added_at': '2023-03-31T09:11:06Z', 'added_by': {'external_urls': {'spotify': 'https://open.spotify.com/user/jeconiahri'}, 'href': 'https://api.spotify.com/v1/users/jeconiahri', 'id': 'jeconiahri', 'type': 'user', 'uri': 'spotify:user:jeconiahri'}, 'is_local': False, 'primary_color': None, 'track': {'album': {'album_group': 'album', 'album_type': 'album', 'artists': [{'external_urls': {'spotify': 'https://open.spotify.com/artist/2kCO8LXN1usaOPL3iEE28I'}, 'href': 'https://api.spotify.com/v1/artists/2kCO8LXN1usaOPL3iEE28I', 'id': '2kCO8LXN1usaOPL3iEE28I', 'name': 'Tai Verdes', 'type': 'artist', 'uri': 'spotify:artist:2kCO8LXN1usaOPL3iEE28I'}], 'available_markets': ['AD', 'AE', 'AG', 'AL', 'AM', 'AO', 'AR', 'AT', 'AU', 'AZ', 'BA', 'BB', 'BD', 'BE', 'BF', 'BG', 'BH', 'BI', 'BJ', 'BN', 'BO', 'BR', 'BS', 'BT', 'BW', 'BY', 'BZ', 'CA', 'CD', 'CG', 'CH', 'CI', 'CL', 'CM', 'CO', 'CR', 'CV', 'CW', 'CY', 'CZ', 'DE', 'DJ', 'DK', 'DM', 'DO', 'DZ', 'EC', 'EE', 'EG', 'ES', 'ET', 'FI', 'FJ', 'FM', 'FR', 'GA', 'GB', 'GD', 'GE', 'GH', 'GM', 'GN', 'GQ', 'GR', 'GT', 'GW', 'GY', 'HK', 'HN', 'HR', 'HT', 'HU', 'ID', 'IE', 'IL', 'IN', 'IQ', 'IS', 'IT', 'JM', 'JO', 'JP', 'KE', 'KG', 'KH', 'KI', 'KM', 'KN', 'KR', 'KW', 'KZ', 'LA', 'LB', 'LC', 'LI', 'LK', 'LR', 'LS', 'LT', 'LU', 'LV', 'LY', 'MA', 'MC', 'MD', 'ME', 'MG', 'MH', 'MK', 'ML', 'MN', 'MO', 'MR', 'MT', 'MU', 'MV', 'MW', 'MX', 'MY', 'MZ', 'NA', 'NE', 'NG', 'NI', 'NL', 'NO', 'NP', 'NR', 'NZ', 'OM', 'PA', 'PE', 'PG', 'PH', 'PK', 'PL', 'PS', 'PT', 'PW', 'PY', 'QA', 'RO', 'RS', 'RW', 'SA', 'SB', 'SC', 'SE', 'SG', 'SI', 'SK', 'SL', 'SM', 'SN', 'SR', 'ST', 'SV', 'SZ', 'TD', 'TG', 'TH', 'TJ', 'TL', 'TN', 'TO', 'TR', 'TT', 'TV', 'TW', 'TZ', 'UA', 'UG', 'US', 'UY', 'UZ', 'VC', 'VE', 'VN', 'VU', 'WS', 'XK', 'ZA', 'ZM', 'ZW'], 'external_urls': {'spotify': 'https://open.spotify.com/album/6TIzz9Z4n03E5USTDzBweS'}, 'href': 'https://api.spotify.com/v1/albums/6TIzz9Z4n03E5USTDzBweS', 'id': '6TIzz9Z4n03E5USTDzBweS', 'images': [{'height': 640, 'url': 'https://i.scdn.co/image/ab67616d0000b273f0c2596b9a88ae0fa155be0d', 'width': 640}, {'height': 300, 'url': 'https://i.scdn.co/image/ab67616d00001e02f0c2596b9a88ae0fa155be0d', 'width': 300}, {'height': 64, 'url': 'https://i.scdn.co/image/ab67616d00004851f0c2596b9a88ae0fa155be0d', 'width': 64}], 'is_playable': True, 'name': 'HDTV', 'release_date': '2022-09-16', 'release_date_precision': 'day', 'total_tracks': 20, 'type': 'album', 'uri': 'spotify:album:6TIzz9Z4n03E5USTDzBweS'}, 'artists': [{'external_urls': {'spotify': 'https://open.spotify.com/artist/2kCO8LXN1usaOPL3iEE28I'}, 'href': 'https://api.spotify.com/v1/artists/2kCO8LXN1usaOPL3iEE28I', 'id': '2kCO8LXN1usaOPL3iEE28I', 'name': 'Tai Verdes', 'type': 'artist', 'uri': 'spotify:artist:2kCO8LXN1usaOPL3iEE28I'}], 'available_markets': ['AR', 'AU', 'AT', 'BE', 'BO', 'BR', 'BG', 'CA', 'CL', 'CO', 'CR', 'CY', 'CZ', 'DK', 'DO', 'DE', 'EC', 'EE', 'SV', 'FI', 'FR', 'GR', 'GT', 'HN', 'HK', 'HU', 'IS', 'IE', 'IT', 'LV', 'LT', 'LU', 'MY', 'MT', 'MX', 'NL', 'NZ', 'NI', 'NO', 'PA', 'PY', 'PE', 'PH', 'PL', 'PT', 'SG', 'SK', 'ES', 'SE', 'CH', 'TW', 'TR', 'UY', 'US', 'GB', 'AD', 'LI', 'MC', 'ID', 'JP', 'TH', 'VN', 'RO', 'IL', 'ZA', 'SA', 'AE', 'BH', 'QA', 'OM', 'KW', 'EG', 'MA', 'DZ', 'TN', 'LB', 'JO', 'PS', 'IN', 'BY', 'KZ', 'MD', 'UA', 'AL', 'BA', 'HR', 'ME', 'MK', 'RS', 'SI', 'KR', 'BD', 'PK', 'LK', 'GH', 'KE', 'NG', 'TZ', 'UG', 'AG', 'AM', 'BS', 'BB', 'BZ', 'BT', 'BW', 'BF', 'CV', 'CW', 'DM', 'FJ', 'GM', 'GE', 'GD', 'GW', 'GY', 'HT', 'JM', 'KI', 'LS', 'LR', 'MW', 'MV', 'ML', 'MH', 'FM', 'NA', 'NR', 'NE', 'PW', 'PG', 'WS', 'SM', 'ST', 'SN', 'SC', 'SL', 'SB', 'KN', 'LC', 'VC', 'SR', 'TL', 'TO', 'TT', 'TV', 'VU', 'AZ', 'BN', 'BI', 'KH', 'CM', 'TD', 'KM', 'GQ', 'SZ', 'GA', 'GN', 'KG', 'LA', 'MO', 'MR', 'MN', 'NP', 'RW', 'TG', 'UZ', 'ZW', 'BJ', 'MG', 'MU', 'MZ', 'AO', 'CI', 'DJ', 'ZM', 'CD', 'CG', 'IQ', 'LY', 'TJ', 'VE', 'ET', 'XK'], 'disc_number': 1, 'duration_ms': 154506, 'episode': False, 'explicit': False, 'external_ids': {'isrc': 'USAR12200373'}, 'external_urls': {'spotify': 'https://open.spotify.com/track/1nTzXNZCnZ0T7S8BqkL98r'}, 'href': 'https://api.spotify.com/v1/tracks/1nTzXNZCnZ0T7S8BqkL98r', 'id': '1nTzXNZCnZ0T7S8BqkL98r', 'is_local': False, 'name': 'how deep?', 'popularity': 64, 'preview_url': 'https://p.scdn.co/mp3-preview/675702aecd86601313fe6e1141ae43385022d8a1?cid=d45edb46e16b49b2a68b07a796d43e76', 'track': True, 'track_number': 14, 'type': 'track', 'uri': 'spotify:track:1nTzXNZCnZ0T7S8BqkL98r'}, 'video_thumbnail': {'url': None}}, {'added_at': '2023-04-06T13:39:48Z', 'added_by': {'external_urls': {'spotify': 'https://open.spotify.com/user/jeconiahri'}, 'href': 'https://api.spotify.com/v1/users/jeconiahri', 'id': 'jeconiahri', 'type': 'user', 'uri': 'spotify:user:jeconiahri'}, 'is_local': False, 'primary_color': None, 'track': {'album': {'album_group': 'single', 'album_type': 'single', 'artists': [{'external_urls': {'spotify': 'https://open.spotify.com/artist/7tYKF4w9nC0nq9CsPZTHyP'}, 'href': 'https://api.spotify.com/v1/artists/7tYKF4w9nC0nq9CsPZTHyP', 'id': '7tYKF4w9nC0nq9CsPZTHyP', 'name': 'SZA', 'type': 'artist', 'uri': 'spotify:artist:7tYKF4w9nC0nq9CsPZTHyP'}, {'external_urls': {'spotify': 'https://open.spotify.com/artist/7CajNmpbOovFoOoasH2HaY'}, 'href': 'https://api.spotify.com/v1/artists/7CajNmpbOovFoOoasH2HaY', 'id': '7CajNmpbOovFoOoasH2HaY', 'name': 'Calvin Harris', 'type': 'artist', 'uri': 'spotify:artist:7CajNmpbOovFoOoasH2HaY'}, {'external_urls': {'spotify': 'https://open.spotify.com/artist/4A0TivfinfALCAMJqqjZIk'}, 'href': 'https://api.spotify.com/v1/artists/4A0TivfinfALCAMJqqjZIk', 'id': '4A0TivfinfALCAMJqqjZIk', 'name': 'Funk Wav', 'type': 'artist', 'uri': 'spotify:artist:4A0TivfinfALCAMJqqjZIk'}], 'available_markets': ['AD', 'AE', 'AG', 'AL', 'AM', 'AO', 'AR', 'AT', 'AU', 'AZ', 'BA', 'BB', 'BD', 'BE', 'BF', 'BG', 'BH', 'BI', 'BJ', 'BN', 'BO', 'BR', 'BS', 'BT', 'BW', 'BY', 'BZ', 'CA', 'CD', 'CG', 'CH', 'CI', 'CL', 'CM', 'CO', 'CR', 'CV', 'CW', 'CY', 'CZ', 'DE', 'DJ', 'DK', 'DM', 'DO', 'DZ', 'EC', 'EE', 'EG', 'ES', 'ET', 'FI', 'FJ', 'FM', 'FR', 'GA', 'GB', 'GD', 'GE', 'GH', 'GM', 'GN', 'GQ', 'GR', 'GT', 'GW', 'GY', 'HK', 'HN', 'HR', 'HT', 'HU', 'ID', 'IE', 'IL', 'IN', 'IQ', 'IS', 'IT', 'JM', 'JO', 'JP', 'KE', 'KG', 'KH', 'KI', 'KM', 'KN', 'KR', 'KW', 'KZ', 'LA', 'LB', 'LC', 'LI', 'LK', 'LR', 'LS', 'LT', 'LU', 'LV', 'LY', 'MA', 'MC', 'MD', 'ME', 'MG', 'MH', 'MK', 'ML', 'MN', 'MO', 'MR', 'MT', 'MU', 'MV', 'MW', 'MX', 'MY', 'MZ', 'NA', 'NE', 'NG', 'NI', 'NL', 'NO', 'NP', 'NR', 'NZ', 'OM', 'PA', 'PE', 'PG', 'PH', 'PK', 'PL', 'PS', 'PT', 'PW', 'PY', 'QA', 'RO', 'RS', 'RW', 'SA', 'SB', 'SC', 'SE', 'SG', 'SI', 'SK', 'SL', 'SM', 'SN', 'SR', 'ST', 'SV', 'SZ', 'TD', 'TG', 'TH', 'TJ', 'TL', 'TN', 'TO', 'TR', 'TT', 'TV', 'TW', 'TZ', 'UA', 'UG', 'US', 'UY', 'UZ', 'VC', 'VE', 'VN', 'VU', 'WS', 'XK', 'ZA', 'ZM', 'ZW'], 'external_urls': {'spotify': 'https://open.spotify.com/album/5enEsi887wD3qGoMCK4jLr'}, 'href': 'https://api.spotify.com/v1/albums/5enEsi887wD3qGoMCK4jLr', 'id': '5enEsi887wD3qGoMCK4jLr', 'images': [{'height': 640, 'url': 'https://i.scdn.co/image/ab67616d0000b273b19d1cc6a00ae1d4ddcbfd37', 'width': 640}, {'height': 300, 'url': 'https://i.scdn.co/image/ab67616d00001e02b19d1cc6a00ae1d4ddcbfd37', 'width': 300}, {'height': 64, 'url': 'https://i.scdn.co/image/ab67616d00004851b19d1cc6a00ae1d4ddcbfd37', 'width': 64}], 'is_playable': True, 'name': 'The Weekend (Funk Wav Remix)', 'release_date': '2017-12-15', 'release_date_precision': 'day', 'total_tracks': 1, 'type': 'album', 'uri': 'spotify:album:5enEsi887wD3qGoMCK4jLr'}, 'artists': [{'external_urls': {'spotify': 'https://open.spotify.com/artist/7tYKF4w9nC0nq9CsPZTHyP'}, 'href': 'https://api.spotify.com/v1/artists/7tYKF4w9nC0nq9CsPZTHyP', 'id': '7tYKF4w9nC0nq9CsPZTHyP', 'name': 'SZA', 'type': 'artist', 'uri': 'spotify:artist:7tYKF4w9nC0nq9CsPZTHyP'}, {'external_urls': {'spotify': 'https://open.spotify.com/artist/7CajNmpbOovFoOoasH2HaY'}, 'href': 'https://api.spotify.com/v1/artists/7CajNmpbOovFoOoasH2HaY', 'id': '7CajNmpbOovFoOoasH2HaY', 'name': 'Calvin Harris', 'type': 'artist', 'uri': 'spotify:artist:7CajNmpbOovFoOoasH2HaY'}, {'external_urls': {'spotify': 'https://open.spotify.com/artist/4A0TivfinfALCAMJqqjZIk'}, 'href': 'https://api.spotify.com/v1/artists/4A0TivfinfALCAMJqqjZIk', 'id': '4A0TivfinfALCAMJqqjZIk', 'name': 'Funk Wav', 'type': 'artist', 'uri': 'spotify:artist:4A0TivfinfALCAMJqqjZIk'}], 'available_markets': ['AR', 'AU', 'AT', 'BE', 'BO', 'BR', 'BG', 'CA', 'CL', 'CO', 'CR', 'CY', 'CZ', 'DK', 'DO', 'DE', 'EC', 'EE', 'SV', 'FI', 'FR', 'GR', 'GT', 'HN', 'HK', 'HU', 'IS', 'IE', 'IT', 'LV', 'LT', 'LU', 'MY', 'MT', 'MX', 'NL', 'NZ', 'NI', 'NO', 'PA', 'PY', 'PE', 'PH', 'PL', 'PT', 'SG', 'SK', 'ES', 'SE', 'CH', 'TW', 'TR', 'UY', 'US', 'GB', 'AD', 'LI', 'MC', 'ID', 'JP', 'TH', 'VN', 'RO', 'IL', 'ZA', 'SA', 'AE', 'BH', 'QA', 'OM', 'KW', 'EG', 'MA', 'DZ', 'TN', 'LB', 'JO', 'PS', 'IN', 'BY', 'KZ', 'MD', 'UA', 'AL', 'BA', 'HR', 'ME', 'MK', 'RS', 'SI', 'KR', 'BD', 'PK', 'LK', 'GH', 'KE', 'NG', 'TZ', 'UG', 'AG', 'AM', 'BS', 'BB', 'BZ', 'BT', 'BW', 'BF', 'CV', 'CW', 'DM', 'FJ', 'GM', 'GE', 'GD', 'GW', 'GY', 'HT', 'JM', 'KI', 'LS', 'LR', 'MW', 'MV', 'ML', 'MH', 'FM', 'NA', 'NR', 'NE', 'PW', 'PG', 'WS', 'SM', 'ST', 'SN', 'SC', 'SL', 'SB', 'KN', 'LC', 'VC', 'SR', 'TL', 'TO', 'TT', 'TV', 'VU', 'AZ', 'BN', 'BI', 'KH', 'CM', 'TD', 'KM', 'GQ', 'SZ', 'GA', 'GN', 'KG', 'LA', 'MO', 'MR', 'MN', 'NP', 'RW', 'TG', 'UZ', 'ZW', 'BJ', 'MG', 'MU', 'MZ', 'AO', 'CI', 'DJ', 'ZM', 'CD', 'CG', 'IQ', 'LY', 'TJ', 'VE', 'ET', 'XK'], 'disc_number': 1, 'duration_ms': 171805, 'episode': False, 'explicit': False, 'external_ids': {'isrc': 'USRC11702939'}, 'external_urls': {'spotify': 'https://open.spotify.com/track/0P6AWOA4LG1XOctzaVu5tt'}, 'href': 'https://api.spotify.com/v1/tracks/0P6AWOA4LG1XOctzaVu5tt', 'id': '0P6AWOA4LG1XOctzaVu5tt', 'is_local': False, 'name': 'The Weekend - Funk Wav Remix', 'popularity': 73, 'preview_url': 'https://p.scdn.co/mp3-preview/0d9934b99807f4eed0d8c236aa148b4ba15f56a2?cid=d45edb46e16b49b2a68b07a796d43e76', 'track': True, 'track_number': 1, 'type': 'track', 'uri': 'spotify:track:0P6AWOA4LG1XOctzaVu5tt'}, 'video_thumbnail': {'url': None}}], 'limit': 100, 'next': None, 'offset': 0, 'previous': None, 'total': 3}\n"
     ]
    }
   ],
   "source": [
    "import requests\n",
    "\n",
    "url = f\"https://api.spotify.com/v1/playlists/{playlist_id}/tracks\"\n",
    "\n",
    "payload={}\n",
    "headers = {\n",
    "  'Authorization': f'Bearer {AccessToken}'\n",
    "}\n",
    "\n",
    "response = requests.get(url, headers=headers, data=payload).json()\n",
    "\n",
    "print(response)"
   ]
  },
  {
   "cell_type": "code",
   "execution_count": 62,
   "metadata": {},
   "outputs": [
    {
     "data": {
      "text/plain": [
       "['0xcSj8Zchf6OwaSOAPAkbg', '1nTzXNZCnZ0T7S8BqkL98r', '0P6AWOA4LG1XOctzaVu5tt']"
      ]
     },
     "execution_count": 62,
     "metadata": {},
     "output_type": "execute_result"
    }
   ],
   "source": [
    "import json\n",
    "\n",
    "# Get all song ID inside the playlist\n",
    "id_list = []\n",
    "\n",
    "id_list = [song['track']['id'] for song in response['items']]\n",
    "\n",
    "id_list"
   ]
  },
  {
   "cell_type": "code",
   "execution_count": 65,
   "metadata": {},
   "outputs": [],
   "source": [
    "def getSongMetadata(song_id):\n",
    "    url = f\"https://api.spotify.com/v1/tracks/{song_id}\"\n",
    "\n",
    "    payload={}\n",
    "    headers = {\n",
    "        'Authorization': f'Bearer {AccessToken}'\n",
    "    }\n",
    "\n",
    "    songMetadata = requests.get(url, headers=headers, data=payload).json()\n",
    "\n",
    "    return songMetadata"
   ]
  },
  {
   "cell_type": "code",
   "execution_count": 66,
   "metadata": {},
   "outputs": [],
   "source": [
    "with open('convert.json', 'w') as convert_file:\n",
    "     convert_file.write(json.dumps(getSongMetadata('0xcSj8Zchf6OwaSOAPAkbg'), indent=4))"
   ]
  },
  {
   "cell_type": "code",
   "execution_count": null,
   "metadata": {},
   "outputs": [],
   "source": []
  }
 ],
 "metadata": {
  "kernelspec": {
   "display_name": "Python 3",
   "language": "python",
   "name": "python3"
  },
  "language_info": {
   "codemirror_mode": {
    "name": "ipython",
    "version": 3
   },
   "file_extension": ".py",
   "mimetype": "text/x-python",
   "name": "python",
   "nbconvert_exporter": "python",
   "pygments_lexer": "ipython3",
   "version": "3.9.12"
  },
  "orig_nbformat": 4
 },
 "nbformat": 4,
 "nbformat_minor": 2
}
