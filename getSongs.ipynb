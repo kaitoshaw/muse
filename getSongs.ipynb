{
 "cells": [
  {
   "attachments": {},
   "cell_type": "markdown",
   "metadata": {},
   "source": [
    "# Get Songs from Spotify Playlist"
   ]
  },
  {
   "cell_type": "code",
   "execution_count": null,
   "metadata": {},
   "outputs": [],
   "source": [
    "# Libraries\n",
    "import requests\n",
    "import re\n",
    "import json\n",
    "import config\n",
    "import matplotlib.pyplot as plt\n",
    "import random"
   ]
  },
  {
   "cell_type": "code",
   "execution_count": null,
   "metadata": {},
   "outputs": [],
   "source": [
    "# Get token\n",
    "url = \"https://accounts.spotify.com/api/token\"\n",
    "\n",
    "payload=f'client_id={config.CLIENT_ID}&client_secret={config.CLIENT_SECRET}&grant_type=client_credentials'\n",
    "headers = {\n",
    "  'Content-Type': 'application/x-www-form-urlencoded',\n",
    "  'Cookie': '__Host-device_id=AQA1E_8u1HHZzuE7O9d_fV4YwanfNozg6q_mdfweHpowhpZGWG9saI45tX6W5no4APxdKSdgb0ZqexZNfHeYiXVZhLhlP5JYj0M; sp_tr=false'\n",
    "}\n",
    "\n",
    "response = requests.request(\"POST\", url, headers=headers, data=payload)\n",
    "\n",
    "AccessToken = json.loads(response.text)['access_token']\n",
    "AccessToken"
   ]
  },
  {
   "attachments": {},
   "cell_type": "markdown",
   "metadata": {},
   "source": [
    "## Access Token\n",
    "Access token is required to call Spotify API. In this case, the Access token needs to be refreshed every time the request is called. The Spotify credential used is the creator of the code."
   ]
  },
  {
   "cell_type": "code",
   "execution_count": null,
   "metadata": {},
   "outputs": [],
   "source": [
    "# Link to Playlist\n",
    "link = 'https://open.spotify.com/playlist/6K0CRmpOM7YtMbCvmKM2mN?si=308fd53745834a27'"
   ]
  },
  {
   "cell_type": "code",
   "execution_count": null,
   "metadata": {},
   "outputs": [],
   "source": [
    "# Get ID from Link to Playlist\n",
    "playlist_id = re.search(r'(?<=playlist/)\\w+', link).group()\n",
    "\n",
    "playlist_id"
   ]
  },
  {
   "cell_type": "code",
   "execution_count": null,
   "metadata": {},
   "outputs": [],
   "source": [
    "url = f\"https://api.spotify.com/v1/playlists/{playlist_id}\"\n",
    "\n",
    "payload={}\n",
    "headers = {\n",
    "  'Authorization': f'Bearer {AccessToken}'\n",
    "}\n",
    "\n",
    "playlistDetails = requests.get(url, headers=headers, data=payload).json()\n",
    "\n",
    "print(f\"Playlist Name: {playlistDetails['name']}\")"
   ]
  },
  {
   "cell_type": "code",
   "execution_count": null,
   "metadata": {},
   "outputs": [],
   "source": [
    "# Get Tracks inside the playlist\n",
    "import requests\n",
    "\n",
    "url = f\"https://api.spotify.com/v1/playlists/{playlist_id}/tracks\"\n",
    "\n",
    "payload={}\n",
    "headers = {\n",
    "  'Authorization': f'Bearer {AccessToken}'\n",
    "}\n",
    "\n",
    "response = requests.get(url, headers=headers, data=payload).json()\n",
    "\n",
    "print(response)"
   ]
  },
  {
   "cell_type": "code",
   "execution_count": null,
   "metadata": {},
   "outputs": [],
   "source": [
    "# Get all song ID inside the playlist\n",
    "id_list = []\n",
    "\n",
    "id_list = [song['track']['id'] for song in response['items']]\n",
    "\n",
    "id_list"
   ]
  },
  {
   "cell_type": "code",
   "execution_count": null,
   "metadata": {},
   "outputs": [],
   "source": [
    "# def getSongMetadata(song_id):\n",
    "#     url = f\"https://api.spotify.com/v1/tracks/{song_id}\"\n",
    "\n",
    "#     payload={}\n",
    "#     headers = {\n",
    "#         'Authorization': f'Bearer {AccessToken}'\n",
    "#     }\n",
    "\n",
    "#     songMetadata = requests.get(url, headers=headers, data=payload).json()\n",
    "\n",
    "#     return songMetadata"
   ]
  },
  {
   "cell_type": "code",
   "execution_count": null,
   "metadata": {},
   "outputs": [],
   "source": [
    "def getAudioFeature(song_id):\n",
    "    url = f\"https://api.spotify.com/v1/audio-features/{song_id}\"\n",
    "\n",
    "    payload = {}\n",
    "    headers = {\n",
    "        'Authorization': f'Bearer {AccessToken}'\n",
    "    }\n",
    "\n",
    "    songAudioFeature = requests.get(url, headers=headers, data=payload).json()\n",
    "\n",
    "    return songAudioFeature"
   ]
  },
  {
   "cell_type": "code",
   "execution_count": null,
   "metadata": {},
   "outputs": [],
   "source": [
    "# Version 2.0: List in Dictionary\n",
    "\n",
    "songsInPlaylist = {\n",
    "    'danceability': [],\n",
    "    'energy': [],\n",
    "    'key': [],\n",
    "    'loudness': [],\n",
    "    'mode': [],\n",
    "    'speechiness': [],\n",
    "    'acousticness': [],\n",
    "    'instrumentalness': [],\n",
    "    'liveness': [],\n",
    "    'tempo': [],\n",
    "    'valence': [],\n",
    "}\n",
    "\n",
    "def extractMetadata(AudioFeatureFunc):\n",
    "    # Append all the informations to the list\n",
    "    _ = AudioFeatureFunc\n",
    "    songsInPlaylist['danceability'].append(_['danceability'])\n",
    "    songsInPlaylist['energy'].append(_['energy'])\n",
    "    songsInPlaylist['key'].append(_['key'])\n",
    "    songsInPlaylist['loudness'].append(_['loudness'])\n",
    "    songsInPlaylist['mode'].append(_['mode'])\n",
    "    songsInPlaylist['speechiness'].append(_['speechiness'])\n",
    "    songsInPlaylist['acousticness'].append(_['acousticness'])\n",
    "    songsInPlaylist['instrumentalness'].append(_['instrumentalness'])\n",
    "    songsInPlaylist['liveness'].append(_['liveness'])\n",
    "    songsInPlaylist['tempo'].append(_['tempo'])\n",
    "    songsInPlaylist['valence'].append(_['valence'])\n"
   ]
  },
  {
   "cell_type": "code",
   "execution_count": null,
   "metadata": {},
   "outputs": [],
   "source": [
    "# # Version 1.1: Automatic, with List\n",
    "# Variable definitions\n",
    "danceability = []\n",
    "energy = []\n",
    "key = []\n",
    "loudness = []\n",
    "mode = []\n",
    "speechiness = []\n",
    "acousticness = []\n",
    "instrumentalness = []\n",
    "liveness = []\n",
    "tempo = []\n",
    "valence = []"
   ]
  },
  {
   "cell_type": "code",
   "execution_count": null,
   "metadata": {},
   "outputs": [],
   "source": [
    "# # Version 1.1: One iteration for all\n",
    "# def extractMetadata(AudioFeatureFunc):\n",
    "#     # Append all the informations to the list\n",
    "#     _ = AudioFeatureFunc\n",
    "#     danceability.append(_['danceability'])\n",
    "#     energy.append(_['energy'])\n",
    "#     key.append(_['key'])\n",
    "#     loudness.append(_['loudness'])\n",
    "#     mode.append(_['mode'])\n",
    "#     speechiness.append(_['speechiness'])\n",
    "#     acousticness.append(_['acousticness'])\n",
    "#     instrumentalness.append(_['instrumentalness'])\n",
    "#     liveness.append(_['liveness'])\n",
    "#     tempo.append(_['tempo'])\n",
    "#     valence.append(_['valence'])"
   ]
  },
  {
   "cell_type": "code",
   "execution_count": null,
   "metadata": {},
   "outputs": [],
   "source": [
    "for id in id_list:\n",
    "    extractMetadata(getAudioFeature(id))"
   ]
  },
  {
   "attachments": {},
   "cell_type": "markdown",
   "metadata": {},
   "source": [
    "## Standart Normalisation\n",
    "Normalise the data before visualising it"
   ]
  },
  {
   "cell_type": "code",
   "execution_count": null,
   "metadata": {},
   "outputs": [],
   "source": [
    "from sklearn.preprocessing import StandardScaler\n",
    "\n",
    "# Create an instance of StandardScaler\n",
    "scaler = StandardScaler()\n",
    "\n",
    "# Loop through the keys in the dictionary\n",
    "for key in songsInPlaylist.keys():\n",
    "    # Get the list of values for the current key\n",
    "    values = songsInPlaylist[key]\n",
    "    \n",
    "    # Convert the list to a 2D array (required for StandardScaler)\n",
    "    values = [[v] for v in values]\n",
    "    \n",
    "    # Fit and transform the values using StandardScaler\n",
    "    normalized_values = scaler.fit_transform(values)\n",
    "    \n",
    "    # Update the dictionary with the normalized values\n",
    "    songsInPlaylist[key] = [v[0] for v in normalized_values]"
   ]
  },
  {
   "attachments": {},
   "cell_type": "markdown",
   "metadata": {},
   "source": [
    "## Plotting into Scatter Plots"
   ]
  },
  {
   "cell_type": "code",
   "execution_count": null,
   "metadata": {},
   "outputs": [],
   "source": [
    "def generate_random_hex_color():\n",
    "    # Generate random integers for R, G, B values\n",
    "    r = random.randint(0, 255)\n",
    "    g = random.randint(0, 255)\n",
    "    b = random.randint(0, 255)\n",
    "    # Convert RGB values to hexadecimal\n",
    "    hex_color = '#%02x%02x%02x' % (r, g, b)\n",
    "    return hex_color"
   ]
  },
  {
   "cell_type": "code",
   "execution_count": null,
   "metadata": {},
   "outputs": [],
   "source": [
    "for _feature in songsInPlaylist:\n",
    "    random_hex_color = generate_random_hex_color()\n",
    "    for _values in songsInPlaylist[_feature]:\n",
    "        plt.plot(_feature, _values, 'o', c=random_hex_color)\n",
    "        plt.xticks(rotation=45, ha='right')\n",
    "\n",
    "plt.show()"
   ]
  },
  {
   "attachments": {},
   "cell_type": "markdown",
   "metadata": {},
   "source": [
    "# Feature Guide\n",
    "#### [0 to 1] danceability\n",
    "0 is least danceable, 1 is most danceable\n",
    "\n",
    "#### [0 to 1] energy\n",
    "represent a perceptual measure of intensity and activity.\n",
    "\n",
    "#### [-1 to 11] key\n",
    "key the track is in\n",
    "\n",
    "#### [-60 to 0db] loudness\n",
    "the quality of a sound that is primary psychological correlate of physical strength (amplitude)\n",
    "\n",
    "#### [0 or 1] mode\n",
    "chord usage, 0 for minor, 1 for major\n",
    "\n",
    "#### [0 to 1] speechiness\n",
    "the higher means the more speech is in use in the track.\n",
    "\n",
    "For example, audiobooks will have 1 in its speechiness. \n",
    "\n",
    "x > 0.66\t\t\tTrack is made from spoken words\n",
    "0.33 > x > 0.66\tTrack contains both music and speech\n",
    "x < 0.33\t\t\tRepresent music and other non-speech-like tracks\n",
    "\n",
    "#### [0 to 1] acousticness \n",
    "measure the level of acoustic confidence in the track\n",
    "\n",
    "#### instrumentalness\n",
    "higher instrumentalness means no vocal content.\n",
    "\n",
    "x > 5\tInstrumental Tracks\n",
    "\n",
    "#### [float] liveness\n",
    "presence of audience in the recording/track. The higher the value means there is a higher probability that the track is taken from a live performance\n",
    "\n",
    "#### [integer] tempo\n",
    "BPM Counter\n",
    "\n",
    "#### [0 to 1] valence\n",
    "Measure the musical positiveness conveyed by the track."
   ]
  }
 ],
 "metadata": {
  "kernelspec": {
   "display_name": "Python 3",
   "language": "python",
   "name": "python3"
  },
  "language_info": {
   "codemirror_mode": {
    "name": "ipython",
    "version": 3
   },
   "file_extension": ".py",
   "mimetype": "text/x-python",
   "name": "python",
   "nbconvert_exporter": "python",
   "pygments_lexer": "ipython3",
   "version": "3.9.12"
  },
  "orig_nbformat": 4
 },
 "nbformat": 4,
 "nbformat_minor": 2
}
