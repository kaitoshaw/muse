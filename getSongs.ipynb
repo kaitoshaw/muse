{
 "cells": [
  {
   "attachments": {},
   "cell_type": "markdown",
   "metadata": {},
   "source": [
    "# Get Songs from Spotify Playlist"
   ]
  },
  {
   "cell_type": "code",
   "execution_count": 79,
   "metadata": {},
   "outputs": [],
   "source": [
    "# Libraries\n",
    "import requests\n",
    "import re\n",
    "import json\n",
    "import config"
   ]
  },
  {
   "cell_type": "code",
   "execution_count": 80,
   "metadata": {},
   "outputs": [
    {
     "data": {
      "text/plain": [
       "'BQAYuNNhwXJ0B6jxsopoOsemNCmIc8tQ4_1O5AA6MGHRNbCjvsH_rE8wnlpU4UZ5u83kgKgI9hOwTKt1EsPsBC5_o1hgE9rXP2tVUwjs2yUrWGB4FDDp'"
      ]
     },
     "execution_count": 80,
     "metadata": {},
     "output_type": "execute_result"
    }
   ],
   "source": [
    "# Get token\n",
    "url = \"https://accounts.spotify.com/api/token\"\n",
    "\n",
    "payload=f'client_id={config.CLIENT_ID}&client_secret={config.CLIENT_SECRET}&grant_type=client_credentials'\n",
    "headers = {\n",
    "  'Content-Type': 'application/x-www-form-urlencoded',\n",
    "  'Cookie': '__Host-device_id=AQA1E_8u1HHZzuE7O9d_fV4YwanfNozg6q_mdfweHpowhpZGWG9saI45tX6W5no4APxdKSdgb0ZqexZNfHeYiXVZhLhlP5JYj0M; sp_tr=false'\n",
    "}\n",
    "\n",
    "response = requests.request(\"POST\", url, headers=headers, data=payload)\n",
    "\n",
    "AccessToken = json.loads(response.text)['access_token']\n",
    "AccessToken"
   ]
  },
  {
   "attachments": {},
   "cell_type": "markdown",
   "metadata": {},
   "source": [
    "## Access Token\n",
    "Access token is required to call Spotify API. In this case, the Access token needs to be refreshed every time the request is called. The Spotify credential used is the creator of the code."
   ]
  },
  {
   "cell_type": "code",
   "execution_count": 81,
   "metadata": {},
   "outputs": [],
   "source": [
    "# Sample Link\n",
    "link = 'https://open.spotify.com/playlist/3EZXILd3Au7L8Wna75GUz3?si=cc22f026f7e34fd7'"
   ]
  },
  {
   "cell_type": "code",
   "execution_count": 82,
   "metadata": {},
   "outputs": [
    {
     "data": {
      "text/plain": [
       "'3EZXILd3Au7L8Wna75GUz3'"
      ]
     },
     "execution_count": 82,
     "metadata": {},
     "output_type": "execute_result"
    }
   ],
   "source": [
    "# Get Link ID\n",
    "import re\n",
    "playlist_id = re.search(r'(?<=playlist/)\\w+', link).group()\n",
    "\n",
    "playlist_id"
   ]
  },
  {
   "cell_type": "code",
   "execution_count": 83,
   "metadata": {},
   "outputs": [],
   "source": [
    "import requests\n",
    "\n",
    "url = f\"https://api.spotify.com/v1/playlists/{playlist_id}/tracks\"\n",
    "\n",
    "payload={}\n",
    "headers = {\n",
    "  'Authorization': f'Bearer {AccessToken}'\n",
    "}\n",
    "\n",
    "file = open('response.json', 'w')\n",
    "response = requests.request(\"GET\", url, headers=headers, data=payload)\n",
    "\n",
    "file.write(response.text)\n",
    "file.close()"
   ]
  },
  {
   "cell_type": "code",
   "execution_count": 85,
   "metadata": {},
   "outputs": [
    {
     "data": {
      "text/plain": [
       "['0xcSj8Zchf6OwaSOAPAkbg', '1nTzXNZCnZ0T7S8BqkL98r']"
      ]
     },
     "execution_count": 85,
     "metadata": {},
     "output_type": "execute_result"
    }
   ],
   "source": [
    "import json\n",
    "\n",
    "file = open('response.json', 'r')\n",
    "\n",
    "# Load the contents of the file into a Python object\n",
    "data = json.load(file)\n",
    "\n",
    "# Close the file object\n",
    "file.close()\n",
    "\n",
    "# Get all song ID inside the playlist\n",
    "id_list = []\n",
    "\n",
    "id_list = [song['track']['id'] for song in data['items']]\n",
    "\n",
    "id_list"
   ]
  },
  {
   "cell_type": "code",
   "execution_count": 62,
   "metadata": {},
   "outputs": [],
   "source": [
    "def getSongDetails(song_id):\n",
    "    url = f\"https://api.spotify.com/v1/tracks/{song_id}\"\n",
    "\n",
    "    payload={}\n",
    "    headers = {\n",
    "        'Authorization': f'Bearer {AccessToken}'\n",
    "    }\n",
    "\n",
    "    response = requests.request(\"GET\", url, headers=headers, data=payload)\n",
    "\n",
    "    print(response.text)"
   ]
  },
  {
   "cell_type": "code",
   "execution_count": 86,
   "metadata": {},
   "outputs": [
    {
     "name": "stdout",
     "output_type": "stream",
     "text": [
      "{\n",
      "  \"album\" : {\n",
      "    \"album_group\" : \"single\",\n",
      "    \"album_type\" : \"single\",\n",
      "    \"artists\" : [ {\n",
      "      \"external_urls\" : {\n",
      "        \"spotify\" : \"https://open.spotify.com/artist/1XlLhtgJjC4ROQZilBZAvw\"\n",
      "      },\n",
      "      \"href\" : \"https://api.spotify.com/v1/artists/1XlLhtgJjC4ROQZilBZAvw\",\n",
      "      \"id\" : \"1XlLhtgJjC4ROQZilBZAvw\",\n",
      "      \"name\" : \"Nic D\",\n",
      "      \"type\" : \"artist\",\n",
      "      \"uri\" : \"spotify:artist:1XlLhtgJjC4ROQZilBZAvw\"\n",
      "    }, {\n",
      "      \"external_urls\" : {\n",
      "        \"spotify\" : \"https://open.spotify.com/artist/5zixe6AbgXPqt4c1uSl94L\"\n",
      "      },\n",
      "      \"href\" : \"https://api.spotify.com/v1/artists/5zixe6AbgXPqt4c1uSl94L\",\n",
      "      \"id\" : \"5zixe6AbgXPqt4c1uSl94L\",\n",
      "      \"name\" : \"Connor Price\",\n",
      "      \"type\" : \"artist\",\n",
      "      \"uri\" : \"spotify:artist:5zixe6AbgXPqt4c1uSl94L\"\n",
      "    } ],\n",
      "    \"available_markets\" : [ \"AD\", \"AE\", \"AG\", \"AL\", \"AM\", \"AO\", \"AR\", \"AT\", \"AU\", \"AZ\", \"BA\", \"BB\", \"BD\", \"BE\", \"BF\", \"BG\", \"BH\", \"BI\", \"BJ\", \"BN\", \"BO\", \"BR\", \"BS\", \"BT\", \"BW\", \"BY\", \"BZ\", \"CA\", \"CD\", \"CG\", \"CH\", \"CI\", \"CL\", \"CM\", \"CO\", \"CR\", \"CV\", \"CW\", \"CY\", \"CZ\", \"DE\", \"DJ\", \"DK\", \"DM\", \"DO\", \"DZ\", \"EC\", \"EE\", \"EG\", \"ES\", \"ET\", \"FI\", \"FJ\", \"FM\", \"FR\", \"GA\", \"GB\", \"GD\", \"GE\", \"GH\", \"GM\", \"GN\", \"GQ\", \"GR\", \"GT\", \"GW\", \"GY\", \"HK\", \"HN\", \"HR\", \"HT\", \"HU\", \"ID\", \"IE\", \"IL\", \"IN\", \"IQ\", \"IS\", \"IT\", \"JM\", \"JO\", \"JP\", \"KE\", \"KG\", \"KH\", \"KI\", \"KM\", \"KN\", \"KR\", \"KW\", \"KZ\", \"LA\", \"LB\", \"LC\", \"LI\", \"LK\", \"LR\", \"LS\", \"LT\", \"LU\", \"LV\", \"LY\", \"MA\", \"MC\", \"MD\", \"ME\", \"MG\", \"MH\", \"MK\", \"ML\", \"MN\", \"MO\", \"MR\", \"MT\", \"MU\", \"MV\", \"MW\", \"MX\", \"MY\", \"MZ\", \"NA\", \"NE\", \"NG\", \"NI\", \"NL\", \"NO\", \"NP\", \"NR\", \"NZ\", \"OM\", \"PA\", \"PE\", \"PG\", \"PH\", \"PK\", \"PL\", \"PS\", \"PT\", \"PW\", \"PY\", \"QA\", \"RO\", \"RS\", \"RW\", \"SA\", \"SB\", \"SC\", \"SE\", \"SG\", \"SI\", \"SK\", \"SL\", \"SM\", \"SN\", \"SR\", \"ST\", \"SV\", \"SZ\", \"TD\", \"TG\", \"TH\", \"TJ\", \"TL\", \"TN\", \"TO\", \"TR\", \"TT\", \"TV\", \"TW\", \"TZ\", \"UA\", \"UG\", \"US\", \"UY\", \"UZ\", \"VC\", \"VE\", \"VN\", \"VU\", \"WS\", \"XK\", \"ZA\", \"ZM\", \"ZW\" ],\n",
      "    \"external_urls\" : {\n",
      "      \"spotify\" : \"https://open.spotify.com/album/2R32rJK89J4ZVn5DqhireL\"\n",
      "    },\n",
      "    \"href\" : \"https://api.spotify.com/v1/albums/2R32rJK89J4ZVn5DqhireL\",\n",
      "    \"id\" : \"2R32rJK89J4ZVn5DqhireL\",\n",
      "    \"images\" : [ {\n",
      "      \"height\" : 640,\n",
      "      \"url\" : \"https://i.scdn.co/image/ab67616d0000b2734c14d524e08681904cd2f6a2\",\n",
      "      \"width\" : 640\n",
      "    }, {\n",
      "      \"height\" : 300,\n",
      "      \"url\" : \"https://i.scdn.co/image/ab67616d00001e024c14d524e08681904cd2f6a2\",\n",
      "      \"width\" : 300\n",
      "    }, {\n",
      "      \"height\" : 64,\n",
      "      \"url\" : \"https://i.scdn.co/image/ab67616d000048514c14d524e08681904cd2f6a2\",\n",
      "      \"width\" : 64\n",
      "    } ],\n",
      "    \"name\" : \"Bankroll\",\n",
      "    \"release_date\" : \"2022-11-04\",\n",
      "    \"release_date_precision\" : \"day\",\n",
      "    \"total_tracks\" : 1,\n",
      "    \"type\" : \"album\",\n",
      "    \"uri\" : \"spotify:album:2R32rJK89J4ZVn5DqhireL\"\n",
      "  },\n",
      "  \"artists\" : [ {\n",
      "    \"external_urls\" : {\n",
      "      \"spotify\" : \"https://open.spotify.com/artist/1XlLhtgJjC4ROQZilBZAvw\"\n",
      "    },\n",
      "    \"href\" : \"https://api.spotify.com/v1/artists/1XlLhtgJjC4ROQZilBZAvw\",\n",
      "    \"id\" : \"1XlLhtgJjC4ROQZilBZAvw\",\n",
      "    \"name\" : \"Nic D\",\n",
      "    \"type\" : \"artist\",\n",
      "    \"uri\" : \"spotify:artist:1XlLhtgJjC4ROQZilBZAvw\"\n",
      "  }, {\n",
      "    \"external_urls\" : {\n",
      "      \"spotify\" : \"https://open.spotify.com/artist/5zixe6AbgXPqt4c1uSl94L\"\n",
      "    },\n",
      "    \"href\" : \"https://api.spotify.com/v1/artists/5zixe6AbgXPqt4c1uSl94L\",\n",
      "    \"id\" : \"5zixe6AbgXPqt4c1uSl94L\",\n",
      "    \"name\" : \"Connor Price\",\n",
      "    \"type\" : \"artist\",\n",
      "    \"uri\" : \"spotify:artist:5zixe6AbgXPqt4c1uSl94L\"\n",
      "  } ],\n",
      "  \"available_markets\" : [ \"AR\", \"AU\", \"AT\", \"BE\", \"BO\", \"BR\", \"BG\", \"CA\", \"CL\", \"CO\", \"CR\", \"CY\", \"CZ\", \"DK\", \"DO\", \"DE\", \"EC\", \"EE\", \"SV\", \"FI\", \"FR\", \"GR\", \"GT\", \"HN\", \"HK\", \"HU\", \"IS\", \"IE\", \"IT\", \"LV\", \"LT\", \"LU\", \"MY\", \"MT\", \"MX\", \"NL\", \"NZ\", \"NI\", \"NO\", \"PA\", \"PY\", \"PE\", \"PH\", \"PL\", \"PT\", \"SG\", \"SK\", \"ES\", \"SE\", \"CH\", \"TW\", \"TR\", \"UY\", \"US\", \"GB\", \"AD\", \"LI\", \"MC\", \"ID\", \"JP\", \"TH\", \"VN\", \"RO\", \"IL\", \"ZA\", \"SA\", \"AE\", \"BH\", \"QA\", \"OM\", \"KW\", \"EG\", \"MA\", \"DZ\", \"TN\", \"LB\", \"JO\", \"PS\", \"IN\", \"BY\", \"KZ\", \"MD\", \"UA\", \"AL\", \"BA\", \"HR\", \"ME\", \"MK\", \"RS\", \"SI\", \"KR\", \"BD\", \"PK\", \"LK\", \"GH\", \"KE\", \"NG\", \"TZ\", \"UG\", \"AG\", \"AM\", \"BS\", \"BB\", \"BZ\", \"BT\", \"BW\", \"BF\", \"CV\", \"CW\", \"DM\", \"FJ\", \"GM\", \"GE\", \"GD\", \"GW\", \"GY\", \"HT\", \"JM\", \"KI\", \"LS\", \"LR\", \"MW\", \"MV\", \"ML\", \"MH\", \"FM\", \"NA\", \"NR\", \"NE\", \"PW\", \"PG\", \"WS\", \"SM\", \"ST\", \"SN\", \"SC\", \"SL\", \"SB\", \"KN\", \"LC\", \"VC\", \"SR\", \"TL\", \"TO\", \"TT\", \"TV\", \"VU\", \"AZ\", \"BN\", \"BI\", \"KH\", \"CM\", \"TD\", \"KM\", \"GQ\", \"SZ\", \"GA\", \"GN\", \"KG\", \"LA\", \"MO\", \"MR\", \"MN\", \"NP\", \"RW\", \"TG\", \"UZ\", \"ZW\", \"BJ\", \"MG\", \"MU\", \"MZ\", \"AO\", \"CI\", \"DJ\", \"ZM\", \"CD\", \"CG\", \"IQ\", \"LY\", \"TJ\", \"VE\", \"ET\", \"XK\" ],\n",
      "  \"disc_number\" : 1,\n",
      "  \"duration_ms\" : 104515,\n",
      "  \"explicit\" : false,\n",
      "  \"external_ids\" : {\n",
      "    \"isrc\" : \"QZTAU2262726\"\n",
      "  },\n",
      "  \"external_urls\" : {\n",
      "    \"spotify\" : \"https://open.spotify.com/track/0xcSj8Zchf6OwaSOAPAkbg\"\n",
      "  },\n",
      "  \"href\" : \"https://api.spotify.com/v1/tracks/0xcSj8Zchf6OwaSOAPAkbg\",\n",
      "  \"id\" : \"0xcSj8Zchf6OwaSOAPAkbg\",\n",
      "  \"is_local\" : false,\n",
      "  \"name\" : \"Bankroll\",\n",
      "  \"popularity\" : 68,\n",
      "  \"preview_url\" : \"https://p.scdn.co/mp3-preview/9542d2f8124df681eb41531c0cbc0de5cfb8d00b?cid=d45edb46e16b49b2a68b07a796d43e76\",\n",
      "  \"track_number\" : 1,\n",
      "  \"type\" : \"track\",\n",
      "  \"uri\" : \"spotify:track:0xcSj8Zchf6OwaSOAPAkbg\"\n",
      "}\n"
     ]
    }
   ],
   "source": [
    "getSongDetails('0xcSj8Zchf6OwaSOAPAkbg')"
   ]
  }
 ],
 "metadata": {
  "kernelspec": {
   "display_name": "Python 3",
   "language": "python",
   "name": "python3"
  },
  "language_info": {
   "codemirror_mode": {
    "name": "ipython",
    "version": 3
   },
   "file_extension": ".py",
   "mimetype": "text/x-python",
   "name": "python",
   "nbconvert_exporter": "python",
   "pygments_lexer": "ipython3",
   "version": "3.9.12"
  },
  "orig_nbformat": 4
 },
 "nbformat": 4,
 "nbformat_minor": 2
}
